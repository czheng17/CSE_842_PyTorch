{
 "cells": [
  {
   "cell_type": "markdown",
   "metadata": {},
   "source": [
    "# Warmup project\n",
    "## author: Chen Zheng\n",
    "## 10/05/2022\n"
   ]
  },
  {
   "cell_type": "code",
   "execution_count": 178,
   "metadata": {},
   "outputs": [
    {
     "name": "stdout",
     "output_type": "stream",
     "text": [
      "dataset:  [(1, 3.4282835180781976), (2, 6.784031167144061), (3, 9.204583940782708), (4, 12.659427002977967), (5, 15.407705753772381)]\n"
     ]
    }
   ],
   "source": [
    "import random\n",
    "dataset = []\n",
    "\n",
    "ground_truth_w = 3\n",
    "dataset = []\n",
    "for i in range(1,6):\n",
    "    x = i\n",
    "    y = ground_truth_w * x + random.random() ## y = w*x + b\n",
    "    dataset.append((x,y))\n",
    "print('dataset: ', dataset)"
   ]
  },
  {
   "cell_type": "markdown",
   "metadata": {},
   "source": [
    "### Warmup 1:\n",
    "\n",
    "input: a set of pairs $[(x_1,y_1), (x_2, y_2), ..., (x_n, y_n)]$\n",
    "\n",
    "output: Find the weight w that minimizes $f(w)$. $f(w)$ is the squared mean error function (object function) where $f(w) = \\frac{1}{n}\\sum_{i=1}^n(w*x_i - y)^2$"
   ]
  },
  {
   "cell_type": "code",
   "execution_count": 179,
   "metadata": {},
   "outputs": [],
   "source": [
    "def object_f_(w):\n",
    "    res = 0\n",
    "    for x, y in dataset:\n",
    "        res += (w*x - y)**2\n",
    "    return res / len(dataset)"
   ]
  },
  {
   "cell_type": "code",
   "execution_count": 180,
   "metadata": {},
   "outputs": [],
   "source": [
    "def gradient_f_(w):\n",
    "    res = 0\n",
    "    for x, y in dataset:\n",
    "        res += 2 * (w*x - y) * x\n",
    "    return res / len(dataset)"
   ]
  },
  {
   "cell_type": "code",
   "execution_count": 181,
   "metadata": {},
   "outputs": [
    {
     "name": "stdout",
     "output_type": "stream",
     "text": [
      "iter:  0  w:  0  val:  108.03181218371637\n",
      "iter:  0  w:  0.06891453378219528  val:  108.03181218371637\n",
      "iter:  50  w:  2.1251535223451383  val:  11.764712937599166\n",
      "iter:  100  w:  2.8012619181601175  val:  1.3568068594655307\n",
      "iter:  150  w:  3.02357195382916  val:  0.23155732167372928\n",
      "iter:  200  w:  3.095863803168071  val:  0.1105720382608552\n"
     ]
    }
   ],
   "source": [
    "\n",
    "w = 0\n",
    "lr = 0.001\n",
    "print('iter: ', 0, ' w: ', w, ' val: ', object_f_(w))\n",
    "for iter in range(200):\n",
    "    val = object_f_(w)\n",
    "    gradient = gradient_f_(w)\n",
    "    w = w - lr*gradient\n",
    "    if iter % 50 == 0:\n",
    "        print('iter: ', iter, ' w: ', w, ' val: ', val)\n",
    "    # print('iter: ', iter, ' w: ', w, ' val: ', val)\n",
    "print('iter: ', 200, ' w: ', w, ' val: ', val)"
   ]
  },
  {
   "cell_type": "markdown",
   "metadata": {},
   "source": [
    "### Warmup 2:\n",
    "\n",
    "Upgrade the the level of the difficulty:\n",
    "\n",
    "- First chage: w from a 1-D tesor to 5-D tensor.\n",
    "\n",
    "- Second change: randomly generate 100 data samples."
   ]
  },
  {
   "cell_type": "code",
   "execution_count": 182,
   "metadata": {},
   "outputs": [],
   "source": [
    "import numpy as np\n",
    "ground_truth_w = np.array([1, 2, 3, 2, 1]) ### change from w = 1 to w = [1, 2, 3, 2, 1]\n",
    "dim = len(ground_truth_w)\n",
    "dataset = []\n",
    "for i in range(100):\n",
    "    x = np.random.randn(dim)\n",
    "    y = ground_truth_w.dot(x) + np.random.randn() ## y = w.dot(x) + b\n",
    "    dataset.append((x,y))"
   ]
  },
  {
   "cell_type": "code",
   "execution_count": 183,
   "metadata": {},
   "outputs": [],
   "source": [
    "def object_f_(w):\n",
    "    res = 0\n",
    "    for x, y in dataset:\n",
    "        res += (w.dot(x) - y)**2 # matrix operation\n",
    "    return res / len(dataset)"
   ]
  },
  {
   "cell_type": "code",
   "execution_count": 184,
   "metadata": {},
   "outputs": [],
   "source": [
    "def gradient_f_(w):\n",
    "    res = 0\n",
    "    for x, y in dataset:\n",
    "        res += 2 * (w.dot(x) - y) * x # matrix operation\n",
    "    return res / len(dataset)"
   ]
  },
  {
   "cell_type": "code",
   "execution_count": 185,
   "metadata": {},
   "outputs": [],
   "source": [
    "total_iter = 3000 ## how about 1000? 2000? In fact, You will find the surprise after more than 2000 iterations."
   ]
  },
  {
   "cell_type": "code",
   "execution_count": 186,
   "metadata": {},
   "outputs": [
    {
     "name": "stdout",
     "output_type": "stream",
     "text": [
      "iter:  0  w:  [0. 0. 0. 0. 0.]  val:  19.94823067527274\n",
      "iter:  0  w:  [0.00124897 0.00443658 0.00530019 0.00422224 0.00243263]  val:  19.94823067527274\n",
      "iter:  200  w:  [0.22038362 0.7265467  0.904214   0.68849903 0.38274658]  val:  9.835214847987514\n",
      "iter:  400  w:  [0.38909839 1.19916942 1.54596514 1.13207717 0.60810369]  val:  5.207535240650101\n",
      "iter:  600  w:  [0.51967399 1.50898227 2.00458268 1.41998305 0.73860438]  val:  3.058980355344305\n",
      "iter:  800  w:  [0.6209988  1.71234773 2.33271187 1.60715029 0.81170417]  val:  2.0460197475916697\n",
      "iter:  1000  w:  [0.69968856 1.84598767 2.56778942 1.72907828 0.85059548]  val:  1.5608143731146302\n",
      "iter:  1200  w:  [0.76077299 1.93387544 2.73644455 1.80871458 0.86952102]  val:  1.324655100771894\n",
      "iter:  1400  w:  [0.80813244 1.99169321 2.85762967 1.86089922 0.87713459]  val:  1.2078890474336033\n",
      "iter:  1600  w:  [0.844788   2.02971996 2.94484436 1.89523459 0.87862087]  val:  1.1492775081025624\n",
      "iter:  1800  w:  [0.8731033  2.0547062  3.007714   1.91793884 0.87702766]  val:  1.1194379920990891\n",
      "iter:  2000  w:  [0.89493106 2.07109328 3.05310979 1.93304272 0.87409946]  val:  1.1040481879014363\n",
      "iter:  2200  w:  [0.91172325 2.08180822 3.08594339 1.94316268 0.87079613]  val:  1.0960176653859164\n",
      "iter:  2400  w:  [0.92461606 2.0887828  3.10973086 1.95000015 0.86761319]  val:  1.0917837049273047\n",
      "iter:  2600  w:  [0.93449661 2.09329347 3.12699314 1.95466412 0.86477797]  val:  1.089531106416732\n",
      "iter:  2800  w:  [0.9420557  2.09618427 3.13954063 1.95787958 0.86236816]  val:  1.0883231852253126\n",
      "iter:  3000  w:  [0.94780457 2.09800631 3.14863677 1.96011291 0.86039138]  val:  1.0876733973373705\n"
     ]
    }
   ],
   "source": [
    "w = np.zeros(dim)  ### change from w = 0 to w = [0,0,0,0,0]\n",
    "lr = 0.001\n",
    "print('iter: ', 0, ' w: ', w, ' val: ', object_f_(w))\n",
    "for iter in range(total_iter):\n",
    "    val = object_f_(w)\n",
    "    gradient = gradient_f_(w)\n",
    "    w = w - lr*gradient\n",
    "    if iter % 200 == 0:\n",
    "        print('iter: ', iter, ' w: ', w, ' val: ', val)\n",
    "    # print('iter: ', iter, ' w: ', w, ' val: ', val)\n",
    "print('iter: ', total_iter, ' w: ', w, ' val: ', val)\n"
   ]
  }
 ],
 "metadata": {
  "kernelspec": {
   "display_name": "Python 3.7.4 64-bit",
   "language": "python",
   "name": "python3"
  },
  "language_info": {
   "codemirror_mode": {
    "name": "ipython",
    "version": 3
   },
   "file_extension": ".py",
   "mimetype": "text/x-python",
   "name": "python",
   "nbconvert_exporter": "python",
   "pygments_lexer": "ipython3",
   "version": "3.7.4"
  },
  "orig_nbformat": 4,
  "vscode": {
   "interpreter": {
    "hash": "40d3a090f54c6569ab1632332b64b2c03c39dcf918b08424e98f38b5ae0af88f"
   }
  }
 },
 "nbformat": 4,
 "nbformat_minor": 2
}
